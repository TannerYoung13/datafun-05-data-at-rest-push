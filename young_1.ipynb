{
 "cells": [
  {
   "cell_type": "markdown",
   "metadata": {},
   "source": [
    "# Module 4 Project\n",
    "# Task 1\n",
    "# Author: [Tanner Young](https://github.com/TannerYoung13)\n",
    "# Repository: [data-04-notebooks](https://github.com/TannerYoung13/datafun-04-notebooks-fork)"
   ]
  },
  {
   "cell_type": "code",
   "execution_count": 86,
   "metadata": {},
   "outputs": [],
   "source": [
    "import pandas as pd\n",
    "import numpy as np"
   ]
  },
  {
   "cell_type": "markdown",
   "metadata": {},
   "source": [
    "## Task 1 - Series"
   ]
  },
  {
   "cell_type": "code",
   "execution_count": 87,
   "metadata": {},
   "outputs": [
    {
     "name": "stdout",
     "output_type": "stream",
     "text": [
      "Grades: 0    85\n",
      "1    92\n",
      "2    78\n",
      "3    90\n",
      "4    88\n",
      "5    76\n",
      "6    89\n",
      "7    94\n",
      "8    87\n",
      "9    91\n",
      "dtype: int64\n",
      "Value of the first grade: 85\n",
      "Count: 10\n",
      "Mean: 87.0\n",
      "Minimum: 76\n",
      "Maximum: 94\n",
      "Standard Deviation: 5.868938953886336\n",
      "Description: count    10.000000\n",
      "mean     87.000000\n",
      "std       5.868939\n",
      "min      76.000000\n",
      "25%      85.500000\n",
      "50%      88.500000\n",
      "75%      90.750000\n",
      "max      94.000000\n",
      "dtype: float64\n"
     ]
    }
   ],
   "source": [
    "grades = pd.Series([85, 92, 78, 90, 88, 76, 89, 94, 87, 91])\n",
    "count = grades.count()\n",
    "mean = grades.mean()\n",
    "minimum = grades.min()\n",
    "maximum = grades.max()\n",
    "std_deviation = grades.std()\n",
    "description = grades.describe()\n",
    "\n",
    "print(\"Grades:\", grades)\n",
    "print(\"Value of the first grade:\", grades[0])\n",
    "print(\"Count:\", count)\n",
    "print(\"Mean:\", mean)\n",
    "print(\"Minimum:\", minimum)\n",
    "print(\"Maximum:\", maximum)\n",
    "print(\"Standard Deviation:\", std_deviation)\n",
    "print(\"Description:\", description)\n"
   ]
  },
  {
   "cell_type": "markdown",
   "metadata": {},
   "source": [
    "## Task 2 - Series from Dictionary"
   ]
  },
  {
   "cell_type": "code",
   "execution_count": 88,
   "metadata": {},
   "outputs": [
    {
     "data": {
      "text/plain": [
       "Wally     87\n",
       "Eva      100\n",
       "Sam       94\n",
       "dtype: int64"
      ]
     },
     "execution_count": 88,
     "metadata": {},
     "output_type": "execute_result"
    }
   ],
   "source": [
    "grades = pd.Series({'Wally': 87, 'Eva': 100, 'Sam': 94})\n",
    "grades"
   ]
  },
  {
   "cell_type": "code",
   "execution_count": 89,
   "metadata": {},
   "outputs": [
    {
     "data": {
      "text/plain": [
       "100"
      ]
     },
     "execution_count": 89,
     "metadata": {},
     "output_type": "execute_result"
    }
   ],
   "source": [
    "grades['Eva']"
   ]
  },
  {
   "cell_type": "code",
   "execution_count": 90,
   "metadata": {},
   "outputs": [
    {
     "data": {
      "text/plain": [
       "87"
      ]
     },
     "execution_count": 90,
     "metadata": {},
     "output_type": "execute_result"
    }
   ],
   "source": [
    "grades.Wally"
   ]
  },
  {
   "cell_type": "code",
   "execution_count": 91,
   "metadata": {},
   "outputs": [
    {
     "data": {
      "text/plain": [
       "array([ 87, 100,  94], dtype=int64)"
      ]
     },
     "execution_count": 91,
     "metadata": {},
     "output_type": "execute_result"
    }
   ],
   "source": [
    "grades.values"
   ]
  },
  {
   "cell_type": "markdown",
   "metadata": {},
   "source": []
  },
  {
   "cell_type": "code",
   "execution_count": 92,
   "metadata": {},
   "outputs": [
    {
     "data": {
      "text/plain": [
       "0    62\n",
       "1    90\n",
       "2    81\n",
       "3    70\n",
       "4    84\n",
       "5    90\n",
       "dtype: int32"
      ]
     },
     "execution_count": 92,
     "metadata": {},
     "output_type": "execute_result"
    }
   ],
   "source": [
    "temps = np.random.randint(60,101,6)\n",
    "temperatures = pd.Series(temps)\n",
    "temperatures"
   ]
  },
  {
   "cell_type": "code",
   "execution_count": 93,
   "metadata": {},
   "outputs": [
    {
     "data": {
      "text/plain": [
       "count     6.000000\n",
       "mean     79.500000\n",
       "std      11.309288\n",
       "min      62.000000\n",
       "25%      72.750000\n",
       "50%      82.500000\n",
       "75%      88.500000\n",
       "max      90.000000\n",
       "dtype: float64"
      ]
     },
     "execution_count": 93,
     "metadata": {},
     "output_type": "execute_result"
    }
   ],
   "source": [
    "temperatures.min()\n",
    "temperatures.max()\n",
    "temperatures.mean()\n",
    "temperatures.describe()"
   ]
  }
 ],
 "metadata": {
  "kernelspec": {
   "display_name": ".venv",
   "language": "python",
   "name": "python3"
  },
  "language_info": {
   "codemirror_mode": {
    "name": "ipython",
    "version": 3
   },
   "file_extension": ".py",
   "mimetype": "text/x-python",
   "name": "python",
   "nbconvert_exporter": "python",
   "pygments_lexer": "ipython3",
   "version": "3.11.4"
  },
  "orig_nbformat": 4
 },
 "nbformat": 4,
 "nbformat_minor": 2
}
